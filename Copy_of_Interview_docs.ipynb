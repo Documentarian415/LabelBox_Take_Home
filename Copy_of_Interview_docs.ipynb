{
  "nbformat": 4,
  "nbformat_minor": 0,
  "metadata": {
    "colab": {
      "provenance": [],
      "toc_visible": true,
      "collapsed_sections": [
        "9s-MFGgaAYbq"
      ]
    },
    "kernelspec": {
      "name": "python3",
      "display_name": "Python 3"
    },
    "language_info": {
      "name": "python"
    }
  },
  "cells": [
    {
      "cell_type": "markdown",
      "source": [
        "## Overview of Labelbox\n",
        "\n",
        "Labelbox is designed to streamline the process of creating, managing and training data for intelligent applications. It provides tools and workflows for annotating, managing, and interating over data, enabling data scientists and machine learning engineers to build high-quality training datasets efficiently.\n",
        "\n",
        "Here's an overview of the main components and features of the Labelbox application:\n",
        "\n",
        "1. **Data Import**: Labelbox allows users to import various types of data, including images, videos, text, and conversational data, from different sources such as local files, cloud storage (e.g., Google Cloud Storage, Amazon S3), and public URLs.\n",
        "\n",
        "2. **Data Annotation**: Users can create and customize labeling projects for different types of data. Labeling tools include bounding boxes, polygons, keypoints, and segmentation masks, among others. Users can define custom label schemas and workflows tailored to their specific use cases.\n",
        "\n",
        "3. **Automation and Model Integration**: Labelbox provides unique functionality to automate the annotation process, and it allows users to significantly speed up workflows. It provides access to a variety of pre-built labeling models, such as those for object detection and text classification (partial functionality is available in the UI) . Moreover, Labelbox empowers users to assess the performance of their custom models, enabling them to fine-tune and optimize their machine learning pipelines.\n",
        "\n",
        "Labelbox also provides an SDK for customizing workflows, and automating tasks.\n"
      ],
      "metadata": {
        "id": "9s-MFGgaAYbq"
      }
    },
    {
      "cell_type": "markdown",
      "source": [
        "\n",
        "\n",
        "---\n",
        "\n"
      ],
      "metadata": {
        "id": "MbCJWBdXcn5S"
      }
    },
    {
      "cell_type": "markdown",
      "source": [
        "**Instructions:** Pick one of the Labelbox components and write a short demo demonstrating a specific functionality using the SDK. You have freedom to choose any functionality within each of the components.\n",
        "\n",
        "**Deliverables**\n",
        "   - Use a copy of this colab notebook to document the functionality. The demo should be an end-to-end runable example.\n",
        "   - Please upload this notebook to a github repository and share the notebook github link with the team."
      ],
      "metadata": {
        "id": "zGB97RRABeTS"
      }
    },
    {
      "cell_type": "markdown",
      "source": [
        "\n",
        "\n",
        "---\n",
        "\n"
      ],
      "metadata": {
        "id": "MsWs-Xl7RXTW"
      }
    },
    {
      "cell_type": "markdown",
      "source": [
        "Labelbox package setup"
      ],
      "metadata": {
        "id": "_iFqUJX5RBFF"
      }
    },
    {
      "cell_type": "code",
      "source": [
        "!pip install -q \"labelbox[data]\""
      ],
      "metadata": {
        "id": "qvjufEE-Qq8-",
        "colab": {
          "base_uri": "https://localhost:8080/"
        },
        "outputId": "f0408c48-d171-4cb3-8bf2-d013a318022b"
      },
      "execution_count": null,
      "outputs": [
        {
          "output_type": "stream",
          "name": "stdout",
          "text": [
            "\u001b[2K     \u001b[90m━━━━━━━━━━━━━━━━━━━━━━━━━━━━━━━━━━━━━━━━\u001b[0m \u001b[32m238.8/238.8 kB\u001b[0m \u001b[31m5.2 MB/s\u001b[0m eta \u001b[36m0:00:00\u001b[0m\n",
            "\u001b[2K     \u001b[90m━━━━━━━━━━━━━━━━━━━━━━━━━━━━━━━━━━━━━━━━\u001b[0m \u001b[32m4.5/4.5 MB\u001b[0m \u001b[31m19.5 MB/s\u001b[0m eta \u001b[36m0:00:00\u001b[0m\n",
            "\u001b[?25h  Preparing metadata (setup.py) ... \u001b[?25l\u001b[?25hcanceled\u001b[31mERROR: Operation cancelled by user\u001b[0m\u001b[31m\n",
            "\u001b[0m"
          ]
        }
      ]
    },
    {
      "cell_type": "code",
      "source": [
        "import labelbox as lb"
      ],
      "metadata": {
        "id": "9yjmJ7MERMHT",
        "colab": {
          "base_uri": "https://localhost:8080/",
          "height": 319
        },
        "outputId": "41878271-2a3a-40bb-ed07-8d4d7aa483b8"
      },
      "execution_count": null,
      "outputs": [
        {
          "output_type": "error",
          "ename": "ModuleNotFoundError",
          "evalue": "No module named 'labelbox'",
          "traceback": [
            "\u001b[0;31m---------------------------------------------------------------------------\u001b[0m",
            "\u001b[0;31mModuleNotFoundError\u001b[0m                       Traceback (most recent call last)",
            "\u001b[0;32m<ipython-input-2-65ede4ac5830>\u001b[0m in \u001b[0;36m<cell line: 1>\u001b[0;34m()\u001b[0m\n\u001b[0;32m----> 1\u001b[0;31m \u001b[0;32mimport\u001b[0m \u001b[0mlabelbox\u001b[0m \u001b[0;32mas\u001b[0m \u001b[0mlb\u001b[0m\u001b[0;34m\u001b[0m\u001b[0;34m\u001b[0m\u001b[0m\n\u001b[0m",
            "\u001b[0;31mModuleNotFoundError\u001b[0m: No module named 'labelbox'",
            "",
            "\u001b[0;31m---------------------------------------------------------------------------\u001b[0;32m\nNOTE: If your import is failing due to a missing package, you can\nmanually install dependencies using either !pip or !apt.\n\nTo view examples of installing some common dependencies, click the\n\"Open Examples\" button below.\n\u001b[0;31m---------------------------------------------------------------------------\u001b[0m\n"
          ],
          "errorDetails": {
            "actions": [
              {
                "action": "open_url",
                "actionText": "Open Examples",
                "url": "/notebooks/snippets/importing_libraries.ipynb"
              }
            ]
          }
        }
      ]
    },
    {
      "cell_type": "code",
      "source": [
        "# Add your API key\n",
        "API_KEY = \"\"\n",
        "# To get your API key go to your Labelbox account --> Workspace settings -> API -> Create API Key\n",
        "client = lb.Client(api_key=API_KEY)"
      ],
      "metadata": {
        "id": "td5ia2tARM-u"
      },
      "execution_count": null,
      "outputs": []
    },
    {
      "cell_type": "markdown",
      "source": [
        "# Batch SDK Tutorial"
      ],
      "metadata": {
        "id": "b7YqTSdtF3Ua"
      }
    },
    {
      "cell_type": "markdown",
      "source": [
        "After you have imported your dataset into Labelbox Catalog, created a project in LabelBox Annotate, you'll need to send data rows from Catalog to Annotate and the best way to do that is to create a batch of data rows and send that batch to a labeling project."
      ],
      "metadata": {
        "id": "GOYOUCyqPau7"
      }
    },
    {
      "cell_type": "code",
      "source": [
        "import base64\n",
        "from IPython.display import Image, display\n",
        "import matplotlib.pyplot as plt\n",
        "\n",
        "def mm(graph):\n",
        "    graphbytes = graph.encode(\"utf8\")\n",
        "    base64_bytes = base64.b64encode(graphbytes)\n",
        "    base64_string = base64_bytes.decode(\"ascii\")\n",
        "    display(Image(url=\"https://mermaid.ink/img/\" + base64_string))\n",
        "\n",
        "mm(\"\"\"\n",
        "flowchart TB;\n",
        "    A[Dataset 1] -->|batch| P(((Batch 1))) -->|add data rows| B(Label Queue)\n",
        "\n",
        "    C[Dataset 2]\n",
        "    B(Label queue) --> F(Editor) --> G(Workflow tasks)  --> H>Done] -->|export annotations| I[(Customer Database)]\n",
        "\n",
        "    J(Ontology A) -->|connect ontology| Project_A\n",
        "\n",
        "    O(Ontology B)\n",
        "\n",
        "    K(Label queue) --> L(Editor) --> M(Workflow tasks)  --> N(Done)\n",
        "\n",
        "    P(((Batch 1))) ~~~ C(Label Queue)\n",
        "\n",
        "    subgraph fa:fa-layer-group Catalog\n",
        "\n",
        "    A[(Dataset 1)]\n",
        "    C[(Dataset 2)]\n",
        "\n",
        "\n",
        "    end\n",
        "\n",
        "    subgraph fa:fa-tags Annotate\n",
        "\n",
        "    Project_A\n",
        "    Project_B\n",
        "    J{{Ontology A}}\n",
        "    O{{Ontology B}} --> Project_B\n",
        "\n",
        "    end\n",
        "\n",
        "    subgraph Project_A\n",
        "\n",
        "\n",
        "    B[[Label queue]]\n",
        "    F{Editor}\n",
        "    G((Workflow tasks))\n",
        "    H>Done]\n",
        "\n",
        "    end\n",
        "\n",
        "    subgraph Project_B\n",
        "\n",
        "    K[[Label queue]]\n",
        "    L{Editor}\n",
        "    M((Workflow tasks))\n",
        "    N>Done]\n",
        "\n",
        "    end\n",
        "\n",
        "\n",
        "\n",
        "\"\"\")"
      ],
      "metadata": {
        "colab": {
          "base_uri": "https://localhost:8080/",
          "height": 1000
        },
        "id": "2A6SSoqr719A",
        "outputId": "17050882-ac74-4652-9ec9-7a155b0c17a1"
      },
      "execution_count": null,
      "outputs": [
        {
          "output_type": "display_data",
          "data": {
            "text/html": [
              "<img src=\"https://mermaid.ink/img/CmZsb3djaGFydCBUQjsKICAgIEFbRGF0YXNldCAxXSAtLT58YmF0Y2h8IFAoKChCYXRjaCAxKSkpIC0tPnxhZGQgZGF0YSByb3dzfCBCKExhYmVsIFF1ZXVlKQogICAgCiAgICBDW0RhdGFzZXQgMl0gCiAgICBCKExhYmVsIHF1ZXVlKSAtLT4gRihFZGl0b3IpIC0tPiBHKFdvcmtmbG93IHRhc2tzKSAgLS0+IEg+RG9uZV0gLS0+fGV4cG9ydCBhbm5vdGF0aW9uc3wgSVsoQ3VzdG9tZXIgRGF0YWJhc2UpXQoKICAgIEooT250b2xvZ3kgQSkgLS0+fGNvbm5lY3Qgb250b2xvZ3l8IFByb2plY3RfQQoKICAgIE8oT250b2xvZ3kgQikgCgogICAgSyhMYWJlbCBxdWV1ZSkgLS0+IEwoRWRpdG9yKSAtLT4gTShXb3JrZmxvdyB0YXNrcykgIC0tPiBOKERvbmUpCiAgICAKICAgIFAoKChCYXRjaCAxKSkpIH5+fiBDKExhYmVsIFF1ZXVlKQoKICAgIHN1YmdyYXBoIGZhOmZhLWxheWVyLWdyb3VwIENhdGFsb2cKCiAgICBBWyhEYXRhc2V0IDEpXQogICAgQ1soRGF0YXNldCAyKV0KCgogICAgZW5kCgogICAgc3ViZ3JhcGggZmE6ZmEtdGFncyBBbm5vdGF0ZQoKICAgIFByb2plY3RfQQogICAgUHJvamVjdF9CCiAgICBKe3tPbnRvbG9neSBBfX0KICAgIE97e09udG9sb2d5IEJ9fSAtLT4gUHJvamVjdF9CCgogICAgZW5kCgogICAgc3ViZ3JhcGggUHJvamVjdF9BCiAgICAKCiAgICBCW1tMYWJlbCBxdWV1ZV1dCiAgICBGe0VkaXRvcn0KICAgIEcoKFdvcmtmbG93IHRhc2tzKSkKICAgIEg+RG9uZV0KCiAgICBlbmQKCiAgICBzdWJncmFwaCBQcm9qZWN0X0IKCiAgICBLW1tMYWJlbCBxdWV1ZV1dCiAgICBMe0VkaXRvcn0KICAgIE0oKFdvcmtmbG93IHRhc2tzKSkgCiAgICBOPkRvbmVdCgogICAgZW5kCgoKCg==\"/>"
            ],
            "text/plain": [
              "<IPython.core.display.Image object>"
            ]
          },
          "metadata": {}
        }
      ]
    },
    {
      "cell_type": "markdown",
      "source": [
        "In this tutorial, you'll learn how to:\n",
        "\n",
        "\n",
        "**Batch Creation**\n",
        "1.   Create a batch\n",
        "2.   Create multiple batches\n",
        "3.   Create batches from a dataset\n",
        "\n",
        "**Batch Management**\n",
        "1.   Get a batch\n",
        "2.   Export the data rows\n",
        "3.   Remove queued data rows\n",
        "4.   Delete the labels\n",
        "5.   Delete a batch\n",
        "6.   Batch attributes\n",
        "\n",
        "all via the Python SDK.\n"
      ],
      "metadata": {
        "id": "VOpeWo6dVRmO"
      }
    },
    {
      "cell_type": "markdown",
      "source": [
        "# **Batch Creation**"
      ],
      "metadata": {
        "id": "Z7Beb02o1Kfa"
      }
    },
    {
      "cell_type": "markdown",
      "source": [
        "# 1. Create a batch\n",
        "\n",
        "In this section, you'll create a batch in Catalog so it can be sent to a labeling project in Annotate. The two methods are;\n",
        "\n",
        "### Global Key Method\n",
        "\n",
        "The first method of creating a batch is by `global_keys`:\n",
        "\n",
        "```python\n",
        "project.create_batch(\n",
        "  name=\"<unique_batch_name>\",\n",
        "  global_keys=[\"<key1>\", \"<key2>\", \"<key3>\"],\n",
        "  priority=\"<5>\",\n",
        ")\n",
        "\n",
        "```\n",
        "\n",
        "Replace all <xyz> placeholders with appropriate values:\n",
        "\n",
        "*   unique_batch_name: Your batch name\n",
        "*   global_keys: The global keys you would like to include in batch\n",
        "*   priority(optional): Priority in which batch should be labeled, integer value should be between 1(highest) and 5 (lowest) if no value is provided, the batch will be assigned the lowest priority.\n",
        "\n",
        "\n",
        "\n",
        "\n",
        "\n",
        "### Data Row Method\n",
        "\n",
        "The second method of creating a batch is by `data_rows`:\n",
        "\n",
        "```python\n",
        "project.create_batch(\n",
        "  name=\"<unique_batch_name>\",\n",
        "  data_rows=[\"<data_row_id>\", \"<data_row_id>\"],\n",
        "  priority=1,\n",
        "  consensus_settings={\"number_of_labels\": 3, \"coverage_percentage\": 0.1}\n",
        ")\n",
        "```\n",
        "\n",
        "Replace all <xyz> placeholders with appropriate values:\n",
        "\n",
        "*   unique_batch_name: Your batch name\n",
        "*   data_row_id: The data row id you would like to include in batch\n",
        "*   priority(optional): Priority in which batch should be labeled, integer value should be between 1(highest) and 5 (lowest) if no value is provided, the batch will be assigned the lowest priority.\n",
        "*   consensus_settings: If your project uses consensus, you can utilize consensus in your batch with a specified coverage and votes\n"
      ],
      "metadata": {
        "id": "Et4AI7QNY7WZ"
      }
    },
    {
      "cell_type": "markdown",
      "source": [
        "# 2. Create multiple batches\n",
        "\n",
        "The batch method is able to accept up to one million data rows. Due to the maximum batch size of one hundred thousand data rows, multiple batches will be created for any batches created with more than one hundred thousand  data rows.\n",
        "\n",
        "Similar to the singular batch creation, multiple batch creation has two methods.\n",
        "\n",
        "### Global Keys Method\n",
        "\n",
        "The first method of creating multiple batches is by `global_keys`:\n",
        "\n",
        "```python\n",
        "task = project.create_batches(\n",
        "  name_prefix=\"demo-create-batches-\",\n",
        "  global_keys=global_keys,\n",
        "  priority=5\n",
        ")\n",
        "\n",
        "print(\"Errors: \", task.errors())\n",
        "print(\"Result: \", task.result())\n",
        "```\n",
        "\n",
        "Replace all <xyz> placeholders with appropriate values:\n",
        "\n",
        "* \tname_prefix: The batch name prefix that will precede a sequential three-digit number i.e.: batches-001, batches-002, batches-003, etc.\n",
        "*   global_keys: The global keys you would like to include in batches\n",
        "*   priority(optional): Priority in which batch should be labeled, integer value should be between 1(highest) and 5 (lowest) if no value is provided, the batch will be assigned the lowest priority.\n",
        "\n",
        "### Data Rows Method\n",
        "\n",
        "The second method of creating multiple batches is by `data_rows`:\n",
        "\n",
        "```python\n",
        "task = project.create_batches(\n",
        "  name_prefix=\"demo-create-batches-\",\n",
        "  data_rows=data_rows,\n",
        "  priority=5\n",
        ")\n",
        "\n",
        "print(\"Errors: \", task.errors())\n",
        "print(\"Result: \", task.result())\n",
        "```\n",
        "\n",
        "Replace all <xyz> placeholders with appropriate values:\n",
        "\n",
        "*   name_prefix: The batch name prefix that will precede a sequential three-digit number i.e.: batches-001, batches-002, batches-003, etc.\n",
        "*   data_rows: The data rows you would like to include in batches\n",
        "*   priority(optional): Priority in which batch should be labeled, integer value should be between 1(highest) and 5 (lowest) if no value is provided, the batch will be assigned the lowest priority."
      ],
      "metadata": {
        "id": "vrJfsgSiVdlr"
      }
    },
    {
      "cell_type": "markdown",
      "source": [
        "# 3. Create batch(es) from dataset\n",
        "\n",
        "If you wish to create batches in a project from all the data rows of a dataset, you can use create batch from dataset method. If dataset contains more than one hundred thousand rows of data, multiple batches will be created.\n",
        "\n",
        "\n",
        "\n",
        "```python\n",
        "dataset = client.get_dataset(\"<dataset_id>\")\n",
        "\n",
        "task = project.create_batches_from_dataset(\n",
        "    name_prefix=\"demo-dataset-\",\n",
        "    dataset_id=dataset.uid,\n",
        "    priority=5\n",
        ")\n",
        "\n",
        "print(\"Errors: \", task.errors())\n",
        "print(\"Result: \", task.result())\n",
        "\n",
        "```\n",
        "\n",
        "Replace all placeholders with appropriate values:\n",
        "\n",
        "*    name_prefix: The batch name prefix that will precede a sequential three digit-number i.e.: batches-001, batches-002, batches-003, etc.\n",
        "*    data_id: The dataset UID would like to include in batches\n",
        "*    priority(optional): Priority in which batch should be labeled, integer value should be between 1(highest) and 5 (lowest) if no value is provided, the batch will be assigned the lowest priority.\n"
      ],
      "metadata": {
        "id": "ANaYLg1JuCdz"
      }
    },
    {
      "cell_type": "markdown",
      "source": [
        "# **Batch Management**"
      ],
      "metadata": {
        "id": "L675fzpH2FvJ"
      }
    },
    {
      "cell_type": "markdown",
      "source": [
        "# 1. Get a batch\n",
        "\n",
        "Once you create a batch, they become accessible as objects of the ```\n",
        "Project``` class.\n",
        "\n",
        "There are several methodologies in retrieving your batches, depending on the scope of your labelling needs.\n",
        "\n",
        "### Get a Project\n",
        "\n",
        "This method retrieves projects:\n",
        "\n",
        "```python\n",
        "project = client.get_project(\"<project_id>\")\n",
        "```\n",
        "\n",
        "### Get all the batches\n",
        "\n",
        "This method retrieves all batches:\n",
        "\n",
        "[Note: This will return a paginated collection of Batch objects]\n",
        "\n",
        "```python\n",
        "batches = project.batches()\n",
        "```\n",
        "\n",
        "After you have generated a paginated collection, you can convert it to list for easier use:\n",
        "\n",
        "```python\n",
        "list(batches)\n",
        "```\n",
        "\n",
        "### Get one batch\n",
        "\n",
        "This method retrieves a singular batch:\n",
        "\n",
        "```python\n",
        "batch = next(batches)\n",
        "```\n",
        "\n",
        "### Inspect all batches\n",
        "\n",
        "This method prints all batches:\n",
        "\n",
        "```python\n",
        "for batch in batches:\n",
        "  print(batch)\n",
        "```\n",
        "\n",
        "\n",
        "\n"
      ],
      "metadata": {
        "id": "9ZhXT-pY2QdC"
      }
    },
    {
      "cell_type": "markdown",
      "source": [
        "# 2. Export data rows\n",
        "\n",
        "This method returns a generator that produces all data rows currently in the batch:\n",
        "\n",
        "\n",
        "```python\n",
        "data_rows = batch.export_data_rows(include_metadata=False)\n",
        "```\n",
        "\n",
        "To inspect the data rows:\n",
        "\n",
        "```python\n",
        "for data_row in data_rows:\n",
        "  print(data_row)\n",
        "```\n",
        "\n",
        "\n",
        "\n"
      ],
      "metadata": {
        "id": "J4C41y3021J8"
      }
    },
    {
      "cell_type": "markdown",
      "source": [
        "# 3. Remove queued data rows\n",
        "\n",
        "This method removes queued data rows from the batch and consequently the labeling queue of the project:\n",
        "\n",
        "```python\n",
        "batch.remove_queued_data_rows()\n",
        "```\n",
        "\n"
      ],
      "metadata": {
        "id": "v5oXV2Wu29BU"
      }
    },
    {
      "cell_type": "markdown",
      "source": [
        "# 4. Delete labels\n",
        "\n",
        "This method deletes the labels made on the data rows in the batch and re-queues the data rows for labeling:\n",
        "\n",
        "```python\n",
        "batch.delete_labels()\n",
        "```\n",
        "\n",
        "Alternatively, you can re-queue the data with labels as templates:\n",
        "\n",
        "```python\n",
        "batch.delete_labels(set_labels_as_template=True)\n",
        "```\n",
        "\n",
        "\n"
      ],
      "metadata": {
        "id": "F8C0PGWI3C6i"
      }
    },
    {
      "cell_type": "markdown",
      "source": [
        "# 5. Delete batch\n",
        "\n",
        "This method deletes batches:\n",
        "\n",
        "[Note: Before a batch can be deleted, all labels made on the data rows in the batch must be deleted]\n",
        "\n",
        "```python\n",
        "batch.delete()\n",
        "```\n",
        "\n"
      ],
      "metadata": {
        "id": "pP8e2N0d3Y8v"
      }
    },
    {
      "cell_type": "markdown",
      "source": [
        "# 6. Batch attributes\n",
        "\n",
        "There are several methodologies in retrieving the attribute of your batches, depending on your needs.\n",
        "\n",
        "### Get batch name\n",
        "\n",
        "\n",
        "\n",
        "```python\n",
        "batch.name\n",
        "```\n",
        "\n",
        "### When batch was created\n",
        "\n",
        "```python\n",
        "batch.created_at\n",
        "```\n",
        "\n",
        "### When batch was last updated\n",
        "\n",
        "```python\n",
        "batch.updated_at\n",
        "```\n",
        "\n",
        "### The size, number of data rows in the batch integer\n",
        "\n",
        "```python\n",
        "batch.size\n",
        "```\n",
        "\n",
        "### The relationship to the Project oject\n",
        "\n",
        "\n",
        "\n",
        "```python\n",
        "project = batch.project()\n",
        "```\n",
        "\n",
        "\n",
        "\n",
        "\n",
        "\n",
        "\n"
      ],
      "metadata": {
        "id": "5E8ZIRlH38-R"
      }
    }
  ]
}